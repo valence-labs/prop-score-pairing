{
 "cells": [
  {
   "cell_type": "code",
   "execution_count": 1,
   "metadata": {},
   "outputs": [
    {
     "name": "stderr",
     "output_type": "stream",
     "text": [
      "/mnt/ps/home/CORP/johnny.xi/.pyenv/versions/3.10.12/envs/multiomics/lib/python3.10/site-packages/tqdm/auto.py:21: TqdmWarning: IProgress not found. Please update jupyter and ipywidgets. See https://ipywidgets.readthedocs.io/en/stable/user_install.html\n",
      "  from .autonotebook import tqdm as notebook_tqdm\n"
     ]
    }
   ],
   "source": [
    "import scanpy as sc\n",
    "import pandas as pd\n",
    "import numpy as np\n",
    "import networkx as nx\n",
    "import scglue\n",
    "import anndata as ad\n",
    "import os\n",
    "import sys\n",
    "sys.path.insert(0, os.path.abspath(\"..\"))\n",
    "from matching.utils import snn_matching, eot_matching, calc_domainAveraged_FOSCTTM\n",
    "import warnings\n",
    "warnings.filterwarnings('ignore')"
   ]
  },
  {
   "cell_type": "code",
   "execution_count": 2,
   "metadata": {},
   "outputs": [
    {
     "name": "stdout",
     "output_type": "stream",
     "text": [
      "[INFO] fit_SCGLUE: Pretraining SCGLUE model...\n",
      "[INFO] autodevice: Using GPU 5 as computation device.\n",
      "[INFO] check_graph: Checking variable coverage...\n",
      "[INFO] check_graph: Checking edge attributes...\n",
      "[INFO] check_graph: Checking self-loops...\n",
      "[INFO] check_graph: Checking graph symmetry...\n",
      "[INFO] check_graph: All checks passed!\n",
      "[INFO] SCGLUEModel: Setting `graph_batch_size` = 4868\n",
      "[INFO] SCGLUEModel: Setting `max_epochs` = 48\n",
      "[INFO] SCGLUEModel: Setting `patience` = 4\n",
      "[INFO] SCGLUEModel: Setting `reduce_lr_patience` = 2\n",
      "[INFO] SCGLUETrainer: Using training directory: \"/tmp/GLUETMPq16udor4\"\n",
      "[INFO] SCGLUETrainer: [Epoch 10] train={'g_nll': 0.428, 'g_kl': 0.007, 'g_elbo': 0.435, 'x_rna_nll': 0.314, 'x_rna_kl': 0.006, 'x_rna_elbo': 0.32, 'x_adt_nll': 68.622, 'x_adt_kl': 3.205, 'x_adt_elbo': 71.828, 'dsc_loss': 0.46, 'vae_loss': 72.165, 'gen_loss': 72.142}, val={'g_nll': 0.421, 'g_kl': 0.008, 'g_elbo': 0.429, 'x_rna_nll': 0.315, 'x_rna_kl': 0.006, 'x_rna_elbo': 0.321, 'x_adt_nll': 202.421, 'x_adt_kl': 2.393, 'x_adt_elbo': 204.814, 'dsc_loss': 0.619, 'vae_loss': 205.152, 'gen_loss': 205.121}, 54.0s elapsed\n",
      "Epoch 00017: reducing learning rate of group 0 to 2.0000e-04.\n",
      "Epoch 00017: reducing learning rate of group 0 to 2.0000e-04.\n",
      "[INFO] LRScheduler: Learning rate reduction: step 1\n",
      "[INFO] SCGLUETrainer: [Epoch 20] train={'g_nll': 0.638, 'g_kl': 0.013, 'g_elbo': 0.651, 'x_rna_nll': 0.31, 'x_rna_kl': 0.006, 'x_rna_elbo': 0.316, 'x_adt_nll': 33.307, 'x_adt_kl': 1.494, 'x_adt_elbo': 34.801, 'dsc_loss': 0.595, 'vae_loss': 35.144, 'gen_loss': 35.114}, val={'g_nll': 0.596, 'g_kl': 0.013, 'g_elbo': 0.608, 'x_rna_nll': 0.311, 'x_rna_kl': 0.006, 'x_rna_elbo': 0.317, 'x_adt_nll': 52.168, 'x_adt_kl': 0.871, 'x_adt_elbo': 53.039, 'dsc_loss': 0.656, 'vae_loss': 53.38, 'gen_loss': 53.348}, 53.5s elapsed\n",
      "Epoch 00024: reducing learning rate of group 0 to 2.0000e-05.\n",
      "Epoch 00024: reducing learning rate of group 0 to 2.0000e-05.\n",
      "[INFO] LRScheduler: Learning rate reduction: step 2\n"
     ]
    },
    {
     "name": "stderr",
     "output_type": "stream",
     "text": [
      "2023-10-31 11:52:28,074 ignite.handlers.early_stopping.EarlyStopping INFO: EarlyStopping: Stop training\n"
     ]
    },
    {
     "name": "stdout",
     "output_type": "stream",
     "text": [
      "[INFO] EarlyStopping: Restoring checkpoint \"24\"...\n",
      "[INFO] EarlyStopping: Restoring checkpoint \"24\"...\n",
      "[INFO] fit_SCGLUE: Estimating balancing weight...\n",
      "[INFO] estimate_balancing_weight: Clustering cells...\n",
      "[INFO] estimate_balancing_weight: Matching clusters...\n",
      "[INFO] estimate_balancing_weight: Matching array shape = (33, 28)...\n",
      "[INFO] estimate_balancing_weight: Estimating balancing weight...\n",
      "[INFO] fit_SCGLUE: Fine-tuning SCGLUE model...\n",
      "[INFO] check_graph: Checking variable coverage...\n",
      "[INFO] check_graph: Checking edge attributes...\n",
      "[INFO] check_graph: Checking self-loops...\n",
      "[INFO] check_graph: Checking graph symmetry...\n",
      "[INFO] check_graph: All checks passed!\n",
      "[INFO] SCGLUEModel: Setting `graph_batch_size` = 4868\n",
      "[INFO] SCGLUEModel: Setting `align_burnin` = 8\n",
      "[INFO] SCGLUEModel: Setting `max_epochs` = 48\n",
      "[INFO] SCGLUEModel: Setting `patience` = 4\n",
      "[INFO] SCGLUEModel: Setting `reduce_lr_patience` = 2\n",
      "[INFO] SCGLUETrainer: Using training directory: \"/tmp/GLUETMPafsm5r2t\"\n",
      "[INFO] SCGLUETrainer: [Epoch 10] train={'g_nll': 0.906, 'g_kl': 0.02, 'g_elbo': 0.927, 'x_rna_nll': 0.317, 'x_rna_kl': 0.005, 'x_rna_elbo': 0.321, 'x_adt_nll': 16.975, 'x_adt_kl': 0.779, 'x_adt_elbo': 17.754, 'dsc_loss': 0.524, 'vae_loss': 18.112, 'gen_loss': 18.086}, val={'g_nll': 0.908, 'g_kl': 0.021, 'g_elbo': 0.928, 'x_rna_nll': 0.314, 'x_rna_kl': 0.005, 'x_rna_elbo': 0.318, 'x_adt_nll': 5.579, 'x_adt_kl': 0.749, 'x_adt_elbo': 6.328, 'dsc_loss': 0.57, 'vae_loss': 6.683, 'gen_loss': 6.655}, 52.9s elapsed\n",
      "Epoch 00016: reducing learning rate of group 0 to 2.0000e-04.\n",
      "Epoch 00016: reducing learning rate of group 0 to 2.0000e-04.\n",
      "[INFO] LRScheduler: Learning rate reduction: step 1\n",
      "[INFO] SCGLUETrainer: [Epoch 20] train={'g_nll': 0.864, 'g_kl': 0.019, 'g_elbo': 0.884, 'x_rna_nll': 0.313, 'x_rna_kl': 0.004, 'x_rna_elbo': 0.317, 'x_adt_nll': 9.682, 'x_adt_kl': 0.552, 'x_adt_elbo': 10.234, 'dsc_loss': 0.601, 'vae_loss': 10.587, 'gen_loss': 10.557}, val={'g_nll': 0.803, 'g_kl': 0.019, 'g_elbo': 0.823, 'x_rna_nll': 0.313, 'x_rna_kl': 0.004, 'x_rna_elbo': 0.317, 'x_adt_nll': 4.588, 'x_adt_kl': 0.647, 'x_adt_elbo': 5.235, 'dsc_loss': 0.574, 'vae_loss': 5.585, 'gen_loss': 5.556}, 53.4s elapsed\n",
      "Epoch 00023: reducing learning rate of group 0 to 2.0000e-05.\n",
      "Epoch 00023: reducing learning rate of group 0 to 2.0000e-05.\n",
      "[INFO] LRScheduler: Learning rate reduction: step 2\n"
     ]
    },
    {
     "name": "stderr",
     "output_type": "stream",
     "text": [
      "2023-10-31 12:21:17,401 ignite.handlers.early_stopping.EarlyStopping INFO: EarlyStopping: Stop training\n"
     ]
    },
    {
     "name": "stdout",
     "output_type": "stream",
     "text": [
      "[INFO] EarlyStopping: Restoring checkpoint \"23\"...\n",
      "[INFO] EarlyStopping: Restoring checkpoint \"23\"...\n"
     ]
    }
   ],
   "source": [
    "cite = sc.read(\"/mnt/ps/home/CORP/johnny.xi/sandbox/matching/data/GSE194122_openproblems_neurips2021_cite_BMMC_processed.h5ad\")\n",
    "\n",
    "adt_ad = cite[:,cite.var.feature_types == \"ADT\"]\n",
    "gex_ad = cite[:,cite.var.feature_types == \"GEX\"]\n",
    "\n",
    "gex_ad.X = gex_ad.layers[\"counts\"].copy()\n",
    "sc.pp.normalize_total(gex_ad)\n",
    "sc.pp.log1p(gex_ad)\n",
    "sc.pp.scale(gex_ad)\n",
    "sc.tl.pca(gex_ad, n_comps=200, svd_solver=\"auto\")\n",
    "\n",
    "p = np.array(adt_ad.var_names)\n",
    "r = np.array(gex_ad.var_names)\n",
    "# mask entries are set to 1 where protein name is the same as gene name\n",
    "mask = np.repeat(p.reshape(-1, 1), r.shape[0], axis=1) == r\n",
    "mask = np.array(mask)\n",
    "\n",
    "rna_vars = [v + \"_rna\" for v in gex_ad.var_names]\n",
    "prot_vars = [v + \"_prot\" for v in adt_ad.var_names]\n",
    "gex_ad.var_names = rna_vars\n",
    "adt_ad.var_names = prot_vars\n",
    "\n",
    "adj = pd.DataFrame(mask, index=prot_vars, columns=rna_vars)\n",
    "diag_edges = adj[adj > 0].stack().index.tolist()\n",
    "diag_edges = [(n1, n2, {\"weight\": 1.0, \"sign\": 1}) for n1, n2 in diag_edges]\n",
    "self_loop_rna = [(g, g, {\"weight\": 1.0, \"sign\": 1}) for g in rna_vars]\n",
    "self_loop_prot = [(g, g, {\"weight\": 1.0, \"sign\": 1}) for g in prot_vars]\n",
    "\n",
    "graph = nx.Graph()\n",
    "graph.add_nodes_from(rna_vars)\n",
    "graph.add_nodes_from(prot_vars)\n",
    "graph.add_edges_from(diag_edges)\n",
    "graph.add_edges_from(self_loop_prot)\n",
    "graph.add_edges_from(self_loop_rna)\n",
    "\n",
    "scglue.models.configure_dataset(\n",
    "    gex_ad,\n",
    "    \"NB\",\n",
    "    use_highly_variable=False,\n",
    "    use_batch=\"batch\",\n",
    "    use_layer=\"counts\",\n",
    "    use_rep=\"X_pca\",\n",
    ")\n",
    "\n",
    "scglue.models.configure_dataset(\n",
    "    adt_ad,\n",
    "    \"Normal\",\n",
    "    use_highly_variable=False,\n",
    "    use_batch=\"batch\",\n",
    "    use_layer=\"counts\"\n",
    ")\n",
    "\n",
    "glue = scglue.models.fit_SCGLUE(\n",
    "    {\"rna\": gex_ad, \"adt\": adt_ad},\n",
    "    graph\n",
    ")\n",
    "\n",
    "rna_encodings = glue.encode_data(\"rna\", gex_ad)\n",
    "adt_encodings = glue.encode_data(\"adt\", adt_ad)\n"
   ]
  },
  {
   "cell_type": "code",
   "execution_count": 9,
   "metadata": {},
   "outputs": [],
   "source": [
    "from matching.utils import write_to_pickle\n",
    "\n",
    "write_to_pickle(rna_encodings, \"../data/rna_scGLUE_embed.pickle\")\n",
    "write_to_pickle(adt_encodings, \"../data/adt_scGLUE_embed.pickle\")"
   ]
  },
  {
   "cell_type": "markdown",
   "metadata": {},
   "source": [
    "## POST TRAINING"
   ]
  },
  {
   "cell_type": "code",
   "execution_count": 6,
   "metadata": {},
   "outputs": [
    {
     "name": "stdout",
     "output_type": "stream",
     "text": [
      "Cell type: B1 B IGKC+, Number of samples: 820\n",
      "1\n",
      "1\n",
      "Cell type: B1 B IGKC+, kNN trace: 0.0012224157955865273\n",
      "Cell type: B1 B IGKC+, EOT trace: 0.00033913243834565325\n",
      "Cell type: B1 B IGKC+, kNN FOSCTTM: 0.48659430000893417\n",
      "Cell type: B1 B IGKC+, EOT FOSCTTM: 0.6276281306769111\n",
      "Cell type: B1 B IGKC-, Number of samples: 613\n",
      "1\n",
      "1\n",
      "Cell type: B1 B IGKC-, kNN trace: 0.001687596661087689\n",
      "Cell type: B1 B IGKC-, EOT trace: 0.001025749069637031\n",
      "Cell type: B1 B IGKC-, kNN FOSCTTM: 0.49286030344709947\n",
      "Cell type: B1 B IGKC-, EOT FOSCTTM: 0.6106139845824137\n",
      "Cell type: CD14+ Mono, Number of samples: 21693\n",
      "1\n",
      "1\n",
      "Cell type: CD14+ Mono, kNN trace: 2.3048909786567094e-05\n"
     ]
    },
    {
     "ename": "OutOfMemoryError",
     "evalue": "CUDA out of memory. Tried to allocate 1.75 GiB (GPU 0; 10.91 GiB total capacity; 8.80 GiB already allocated; 1.52 GiB free; 8.84 GiB reserved in total by PyTorch) If reserved memory is >> allocated memory try setting max_split_size_mb to avoid fragmentation.  See documentation for Memory Management and PYTORCH_CUDA_ALLOC_CONF",
     "output_type": "error",
     "traceback": [
      "\u001b[0;31m---------------------------------------------------------------------------\u001b[0m",
      "\u001b[0;31mOutOfMemoryError\u001b[0m                          Traceback (most recent call last)",
      "\u001b[1;32m/mnt/ps/home/CORP/johnny.xi/sandbox/matching/notebooks/scGLUE.ipynb Cell 3\u001b[0m line \u001b[0;36m1\n\u001b[1;32m     <a href='vscode-notebook-cell://ssh-remote%2Bpas3/mnt/ps/home/CORP/johnny.xi/sandbox/matching/notebooks/scGLUE.ipynb#W2sdnNjb2RlLXJlbW90ZQ%3D%3D?line=14'>15</a>\u001b[0m snn_sub \u001b[39m=\u001b[39m snn_matching(rna_match_sub, adt_match_sub)\n\u001b[1;32m     <a href='vscode-notebook-cell://ssh-remote%2Bpas3/mnt/ps/home/CORP/johnny.xi/sandbox/matching/notebooks/scGLUE.ipynb#W2sdnNjb2RlLXJlbW90ZQ%3D%3D?line=15'>16</a>\u001b[0m \u001b[39mprint\u001b[39m(\u001b[39mf\u001b[39m\u001b[39m\"\u001b[39m\u001b[39mCell type: \u001b[39m\u001b[39m{\u001b[39;00mct\u001b[39m}\u001b[39;00m\u001b[39m, kNN trace: \u001b[39m\u001b[39m{\u001b[39;00mnp\u001b[39m.\u001b[39mtrace(snn_sub)\u001b[39m/\u001b[39mrna_sub\u001b[39m.\u001b[39mshape[\u001b[39m0\u001b[39m]\u001b[39m}\u001b[39;00m\u001b[39m\"\u001b[39m)\n\u001b[0;32m---> <a href='vscode-notebook-cell://ssh-remote%2Bpas3/mnt/ps/home/CORP/johnny.xi/sandbox/matching/notebooks/scGLUE.ipynb#W2sdnNjb2RlLXJlbW90ZQ%3D%3D?line=16'>17</a>\u001b[0m eot_sub \u001b[39m=\u001b[39m eot_matching(rna_match_sub, adt_match_sub)\n\u001b[1;32m     <a href='vscode-notebook-cell://ssh-remote%2Bpas3/mnt/ps/home/CORP/johnny.xi/sandbox/matching/notebooks/scGLUE.ipynb#W2sdnNjb2RlLXJlbW90ZQ%3D%3D?line=17'>18</a>\u001b[0m \u001b[39mprint\u001b[39m(\u001b[39mf\u001b[39m\u001b[39m\"\u001b[39m\u001b[39mCell type: \u001b[39m\u001b[39m{\u001b[39;00mct\u001b[39m}\u001b[39;00m\u001b[39m, EOT trace: \u001b[39m\u001b[39m{\u001b[39;00mnp\u001b[39m.\u001b[39mtrace(eot_sub)\u001b[39m/\u001b[39mrna_sub\u001b[39m.\u001b[39mshape[\u001b[39m0\u001b[39m]\u001b[39m}\u001b[39;00m\u001b[39m\"\u001b[39m)\n\u001b[1;32m     <a href='vscode-notebook-cell://ssh-remote%2Bpas3/mnt/ps/home/CORP/johnny.xi/sandbox/matching/notebooks/scGLUE.ipynb#W2sdnNjb2RlLXJlbW90ZQ%3D%3D?line=18'>19</a>\u001b[0m snn_match \u001b[39m=\u001b[39m snn_sub \u001b[39m@\u001b[39m adt_sub\n",
      "File \u001b[0;32m/rxrx/scratch/sandbox/johnny.xi/matching/matching/utils.py:97\u001b[0m, in \u001b[0;36meot_matching\u001b[0;34m(x, y, max_iter, verbose, use_sinkhorn_log)\u001b[0m\n\u001b[1;32m     95\u001b[0m p \u001b[39m=\u001b[39m ot\u001b[39m.\u001b[39munif(x\u001b[39m.\u001b[39mshape[\u001b[39m0\u001b[39m], type_as \u001b[39m=\u001b[39m x)\u001b[39m.\u001b[39mto(\u001b[39m\"\u001b[39m\u001b[39mcuda\u001b[39m\u001b[39m\"\u001b[39m)\n\u001b[1;32m     96\u001b[0m q \u001b[39m=\u001b[39m ot\u001b[39m.\u001b[39munif(y\u001b[39m.\u001b[39mshape[\u001b[39m0\u001b[39m], type_as \u001b[39m=\u001b[39m y)\u001b[39m.\u001b[39mto(\u001b[39m\"\u001b[39m\u001b[39mcuda\u001b[39m\u001b[39m\"\u001b[39m)\n\u001b[0;32m---> 97\u001b[0m M \u001b[39m=\u001b[39m ot\u001b[39m.\u001b[39;49mdist(x, y,  metric \u001b[39m=\u001b[39;49m \u001b[39m\"\u001b[39;49m\u001b[39meuclidean\u001b[39;49m\u001b[39m\"\u001b[39;49m)\u001b[39m.\u001b[39;49mto(\u001b[39m\"\u001b[39;49m\u001b[39mcuda\u001b[39;49m\u001b[39m\"\u001b[39;49m)\n\u001b[1;32m     98\u001b[0m coupling, log\u001b[39m=\u001b[39m ot\u001b[39m.\u001b[39msinkhorn(p, q, M, reg \u001b[39m=\u001b[39m reg, numItermax\u001b[39m=\u001b[39mmax_iter, stopThr\u001b[39m=\u001b[39m\u001b[39m1e-10\u001b[39m, method \u001b[39m=\u001b[39m method, log\u001b[39m=\u001b[39m\u001b[39mTrue\u001b[39;00m, verbose\u001b[39m=\u001b[39mverbose)\n\u001b[1;32m     99\u001b[0m \u001b[39mwhile\u001b[39;00m torch\u001b[39m.\u001b[39misnan(coupling)\u001b[39m.\u001b[39many() \u001b[39mand\u001b[39;00m reg \u001b[39m<\u001b[39m \u001b[39m0.1\u001b[39m:\n",
      "\u001b[0;31mOutOfMemoryError\u001b[0m: CUDA out of memory. Tried to allocate 1.75 GiB (GPU 0; 10.91 GiB total capacity; 8.80 GiB already allocated; 1.52 GiB free; 8.84 GiB reserved in total by PyTorch) If reserved memory is >> allocated memory try setting max_split_size_mb to avoid fragmentation.  See documentation for Memory Management and PYTORCH_CUDA_ALLOC_CONF"
     ]
    }
   ],
   "source": [
    "import torch\n",
    "from matching.utils import read_from_pickle\n",
    "\n",
    "cite = sc.read(\"/mnt/ps/home/CORP/johnny.xi/sandbox/matching/data/GSE194122_openproblems_neurips2021_cite_BMMC_processed.h5ad\")\n",
    "adt_ad = cite[:,cite.var.feature_types == \"ADT\"]\n",
    "\n",
    "rna_encodings = read_from_pickle(\"../data/rna_scGLUE_embed.pickle\")\n",
    "adt_encodings = read_from_pickle(\"../data/adt_scGLUE_embed.pickle\")\n",
    "\n",
    "cell_types = np.unique(adt_ad.obs.cell_type)\n",
    "\n",
    "knn_trace_avg, eot_trace_avg, knn_foscttm_avg, eot_foscttm_avg = 0, 0, 0, 0\n",
    "\n",
    "outdict_eot = {}\n",
    "outdict_snn = {}\n",
    "\n",
    "for ct in cell_types:\n",
    "    idx = np.where(gex_ad.obs.cell_type == ct)\n",
    "    rna_sub, adt_sub = gex_ad.obsm[\"X_pca\"][idx], adt_ad.X.toarray()[idx]\n",
    "    adt_match_sub = adt_encodings[idx]\n",
    "    print(f\"Cell type: {ct}, Number of samples: {adt_sub.shape[0]}\")\n",
    "    snn_sub = snn_matching(rna_match_sub, adt_match_sub)\n",
    "    print(f\"Cell type: {ct}, kNN trace: {np.trace(snn_sub)/adt_sub.shape[0]}\")\n",
    "    eot_sub = eot_matching(rna_match_sub, adt_match_sub)\n",
    "    print(f\"Cell type: {ct}, EOT trace: {np.trace(eot_sub)/adt_sub.shape[0]}\")\n",
    "    snn_match = snn_sub @ adt_sub\n",
    "    eot_match = eot_sub @ adt_sub\n",
    "    snn_foscttm = np.array(calc_domainAveraged_FOSCTTM(adt_sub, snn_match)).mean()\n",
    "    eot_foscttm = np.array(calc_domainAveraged_FOSCTTM(adt_sub, eot_match)).mean()\n",
    "    torch.cuda.empty_cache()\n",
    "    print(f\"Cell type: {ct}, kNN FOSCTTM: {snn_foscttm}\") \n",
    "    print(f\"Cell type: {ct}, EOT FOSCTTM: {eot_foscttm}\") \n",
    "\n",
    "    outdict_eot[f\"Cell type: {ct} Trace\"] = np.trace(eot_sub)/adt_sub.shape[0]\n",
    "    outdict_eot[f\"Cell type: {ct} FOSCTTM\"] = {eot_foscttm}\n",
    "\n",
    "    outdict_snn[f\"Cell type: {ct} Trace\"] = np.trace(snn_sub)/adt_sub.shape[0]\n",
    "    outdict_snn[f\"Cell type: {ct} FOSCTTM\"] = {knn_foscttm}\n"
   ]
  },
  {
   "cell_type": "code",
   "execution_count": null,
   "metadata": {},
   "outputs": [],
   "source": [
    "pd.DataFrame.from_dict(data = outdict_snn, orient = \"index\").to_csv(\"../results\" + \"scGLUE_snn.csv\", header = False)"
   ]
  },
  {
   "cell_type": "code",
   "execution_count": null,
   "metadata": {},
   "outputs": [],
   "source": [
    "pd.DataFrame.from_dict(data = outdict_eot, orient = \"index\").to_csv(\"../results\" + \"scGLUE_snn.csv\", header = False)"
   ]
  }
 ],
 "metadata": {
  "kernelspec": {
   "display_name": "matching",
   "language": "python",
   "name": "python3"
  },
  "language_info": {
   "codemirror_mode": {
    "name": "ipython",
    "version": 3
   },
   "file_extension": ".py",
   "mimetype": "text/x-python",
   "name": "python",
   "nbconvert_exporter": "python",
   "pygments_lexer": "ipython3",
   "version": "3.10.12"
  }
 },
 "nbformat": 4,
 "nbformat_minor": 2
}
