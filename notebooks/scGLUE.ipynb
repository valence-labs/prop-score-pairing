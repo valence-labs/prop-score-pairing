{
 "cells": [
  {
   "cell_type": "code",
   "execution_count": 2,
   "metadata": {},
   "outputs": [
    {
     "name": "stderr",
     "output_type": "stream",
     "text": [
      "/mnt/ps/home/CORP/johnny.xi/.pyenv/versions/3.10.12/envs/multiomics/lib/python3.10/site-packages/tqdm/auto.py:21: TqdmWarning: IProgress not found. Please update jupyter and ipywidgets. See https://ipywidgets.readthedocs.io/en/stable/user_install.html\n",
      "  from .autonotebook import tqdm as notebook_tqdm\n"
     ]
    }
   ],
   "source": [
    "import scanpy as sc\n",
    "import pandas as pd\n",
    "import numpy as np\n",
    "import networkx as nx\n",
    "import scglue\n",
    "import anndata as ad"
   ]
  },
  {
   "cell_type": "code",
   "execution_count": 4,
   "metadata": {},
   "outputs": [
    {
     "name": "stderr",
     "output_type": "stream",
     "text": [
      "/mnt/ps/home/CORP/johnny.xi/.pyenv/versions/3.10.12/envs/multiomics/lib/python3.10/site-packages/anndata/_core/anndata.py:1900: UserWarning: Variable names are not unique. To make them unique, call `.var_names_make_unique`.\n",
      "  utils.warn_names_duplicates(\"var\")\n"
     ]
    }
   ],
   "source": [
    "cite = sc.read(\"/mnt/ps/home/CORP/johnny.xi/sandbox/matching/data/GSE194122_openproblems_neurips2021_cite_BMMC_processed.h5ad\")"
   ]
  },
  {
   "cell_type": "code",
   "execution_count": 5,
   "metadata": {},
   "outputs": [],
   "source": [
    "cite = cite[cite.obs.batch.isin([\"s1d1\", \"s1d2\", \"s1d3\"])]"
   ]
  },
  {
   "cell_type": "code",
   "execution_count": 81,
   "metadata": {},
   "outputs": [],
   "source": [
    "d = cite.obs.reset_index()"
   ]
  },
  {
   "cell_type": "code",
   "execution_count": 83,
   "metadata": {},
   "outputs": [
    {
     "data": {
      "text/html": [
       "<div>\n",
       "<style scoped>\n",
       "    .dataframe tbody tr th:only-of-type {\n",
       "        vertical-align: middle;\n",
       "    }\n",
       "\n",
       "    .dataframe tbody tr th {\n",
       "        vertical-align: top;\n",
       "    }\n",
       "\n",
       "    .dataframe thead th {\n",
       "        text-align: right;\n",
       "    }\n",
       "</style>\n",
       "<table border=\"1\" class=\"dataframe\">\n",
       "  <thead>\n",
       "    <tr style=\"text-align: right;\">\n",
       "      <th></th>\n",
       "      <th>index</th>\n",
       "      <th>GEX_n_genes_by_counts</th>\n",
       "      <th>GEX_pct_counts_mt</th>\n",
       "      <th>GEX_size_factors</th>\n",
       "      <th>GEX_phase</th>\n",
       "      <th>ADT_n_antibodies_by_counts</th>\n",
       "      <th>ADT_total_counts</th>\n",
       "      <th>ADT_iso_count</th>\n",
       "      <th>cell_type</th>\n",
       "      <th>batch</th>\n",
       "      <th>...</th>\n",
       "      <th>DonorID</th>\n",
       "      <th>DonorAge</th>\n",
       "      <th>DonorBMI</th>\n",
       "      <th>DonorBloodType</th>\n",
       "      <th>DonorRace</th>\n",
       "      <th>Ethnicity</th>\n",
       "      <th>DonorGender</th>\n",
       "      <th>QCMeds</th>\n",
       "      <th>DonorSmoker</th>\n",
       "      <th>is_train</th>\n",
       "    </tr>\n",
       "  </thead>\n",
       "  <tbody>\n",
       "    <tr>\n",
       "      <th>0</th>\n",
       "      <td>GCATTAGCATAAGCGG-1-s1d1</td>\n",
       "      <td>893</td>\n",
       "      <td>6.723979</td>\n",
       "      <td>0.356535</td>\n",
       "      <td>G1</td>\n",
       "      <td>115</td>\n",
       "      <td>2828.0</td>\n",
       "      <td>5.0</td>\n",
       "      <td>Naive CD20+ B IGKC+</td>\n",
       "      <td>s1d1</td>\n",
       "      <td>...</td>\n",
       "      <td>15078</td>\n",
       "      <td>34</td>\n",
       "      <td>24.8</td>\n",
       "      <td>B-</td>\n",
       "      <td>White</td>\n",
       "      <td>HISPANIC OR LATINO</td>\n",
       "      <td>Male</td>\n",
       "      <td>False</td>\n",
       "      <td>Nonsmoker</td>\n",
       "      <td>train</td>\n",
       "    </tr>\n",
       "    <tr>\n",
       "      <th>1</th>\n",
       "      <td>TACAGGTGTTAGAGTA-1-s1d1</td>\n",
       "      <td>2606</td>\n",
       "      <td>8.008829</td>\n",
       "      <td>1.292643</td>\n",
       "      <td>S</td>\n",
       "      <td>137</td>\n",
       "      <td>8819.0</td>\n",
       "      <td>21.0</td>\n",
       "      <td>CD14+ Mono</td>\n",
       "      <td>s1d1</td>\n",
       "      <td>...</td>\n",
       "      <td>15078</td>\n",
       "      <td>34</td>\n",
       "      <td>24.8</td>\n",
       "      <td>B-</td>\n",
       "      <td>White</td>\n",
       "      <td>HISPANIC OR LATINO</td>\n",
       "      <td>Male</td>\n",
       "      <td>False</td>\n",
       "      <td>Nonsmoker</td>\n",
       "      <td>train</td>\n",
       "    </tr>\n",
       "    <tr>\n",
       "      <th>2</th>\n",
       "      <td>AGGATCTAGGTCTACT-1-s1d1</td>\n",
       "      <td>1867</td>\n",
       "      <td>6.959707</td>\n",
       "      <td>0.970558</td>\n",
       "      <td>G2M</td>\n",
       "      <td>116</td>\n",
       "      <td>4088.0</td>\n",
       "      <td>12.0</td>\n",
       "      <td>Naive CD20+ B IGKC+</td>\n",
       "      <td>s1d1</td>\n",
       "      <td>...</td>\n",
       "      <td>15078</td>\n",
       "      <td>34</td>\n",
       "      <td>24.8</td>\n",
       "      <td>B-</td>\n",
       "      <td>White</td>\n",
       "      <td>HISPANIC OR LATINO</td>\n",
       "      <td>Male</td>\n",
       "      <td>False</td>\n",
       "      <td>Nonsmoker</td>\n",
       "      <td>train</td>\n",
       "    </tr>\n",
       "    <tr>\n",
       "      <th>3</th>\n",
       "      <td>GTAGAAAGTGACACAG-1-s1d1</td>\n",
       "      <td>2360</td>\n",
       "      <td>6.109234</td>\n",
       "      <td>1.232604</td>\n",
       "      <td>G2M</td>\n",
       "      <td>124</td>\n",
       "      <td>4447.0</td>\n",
       "      <td>9.0</td>\n",
       "      <td>HSC</td>\n",
       "      <td>s1d1</td>\n",
       "      <td>...</td>\n",
       "      <td>15078</td>\n",
       "      <td>34</td>\n",
       "      <td>24.8</td>\n",
       "      <td>B-</td>\n",
       "      <td>White</td>\n",
       "      <td>HISPANIC OR LATINO</td>\n",
       "      <td>Male</td>\n",
       "      <td>False</td>\n",
       "      <td>Nonsmoker</td>\n",
       "      <td>train</td>\n",
       "    </tr>\n",
       "    <tr>\n",
       "      <th>4</th>\n",
       "      <td>TCCGAAAAGGATCATA-1-s1d1</td>\n",
       "      <td>455</td>\n",
       "      <td>0.294394</td>\n",
       "      <td>0.044585</td>\n",
       "      <td>S</td>\n",
       "      <td>132</td>\n",
       "      <td>12875.0</td>\n",
       "      <td>24.0</td>\n",
       "      <td>Reticulocyte</td>\n",
       "      <td>s1d1</td>\n",
       "      <td>...</td>\n",
       "      <td>15078</td>\n",
       "      <td>34</td>\n",
       "      <td>24.8</td>\n",
       "      <td>B-</td>\n",
       "      <td>White</td>\n",
       "      <td>HISPANIC OR LATINO</td>\n",
       "      <td>Male</td>\n",
       "      <td>False</td>\n",
       "      <td>Nonsmoker</td>\n",
       "      <td>train</td>\n",
       "    </tr>\n",
       "    <tr>\n",
       "      <th>...</th>\n",
       "      <td>...</td>\n",
       "      <td>...</td>\n",
       "      <td>...</td>\n",
       "      <td>...</td>\n",
       "      <td>...</td>\n",
       "      <td>...</td>\n",
       "      <td>...</td>\n",
       "      <td>...</td>\n",
       "      <td>...</td>\n",
       "      <td>...</td>\n",
       "      <td>...</td>\n",
       "      <td>...</td>\n",
       "      <td>...</td>\n",
       "      <td>...</td>\n",
       "      <td>...</td>\n",
       "      <td>...</td>\n",
       "      <td>...</td>\n",
       "      <td>...</td>\n",
       "      <td>...</td>\n",
       "      <td>...</td>\n",
       "      <td>...</td>\n",
       "    </tr>\n",
       "    <tr>\n",
       "      <th>995</th>\n",
       "      <td>GTGAGCCAGCTGGTGA-1-s1d1</td>\n",
       "      <td>2210</td>\n",
       "      <td>4.479669</td>\n",
       "      <td>1.167016</td>\n",
       "      <td>G2M</td>\n",
       "      <td>117</td>\n",
       "      <td>3423.0</td>\n",
       "      <td>8.0</td>\n",
       "      <td>CD4+ T naive</td>\n",
       "      <td>s1d1</td>\n",
       "      <td>...</td>\n",
       "      <td>15078</td>\n",
       "      <td>34</td>\n",
       "      <td>24.8</td>\n",
       "      <td>B-</td>\n",
       "      <td>White</td>\n",
       "      <td>HISPANIC OR LATINO</td>\n",
       "      <td>Male</td>\n",
       "      <td>False</td>\n",
       "      <td>Nonsmoker</td>\n",
       "      <td>train</td>\n",
       "    </tr>\n",
       "    <tr>\n",
       "      <th>996</th>\n",
       "      <td>GGAATCTTCTATGCCC-1-s1d1</td>\n",
       "      <td>2061</td>\n",
       "      <td>12.652705</td>\n",
       "      <td>1.059667</td>\n",
       "      <td>G2M</td>\n",
       "      <td>115</td>\n",
       "      <td>4047.0</td>\n",
       "      <td>4.0</td>\n",
       "      <td>CD8+ T naive</td>\n",
       "      <td>s1d1</td>\n",
       "      <td>...</td>\n",
       "      <td>15078</td>\n",
       "      <td>34</td>\n",
       "      <td>24.8</td>\n",
       "      <td>B-</td>\n",
       "      <td>White</td>\n",
       "      <td>HISPANIC OR LATINO</td>\n",
       "      <td>Male</td>\n",
       "      <td>False</td>\n",
       "      <td>Nonsmoker</td>\n",
       "      <td>train</td>\n",
       "    </tr>\n",
       "    <tr>\n",
       "      <th>997</th>\n",
       "      <td>AGTCACAAGGATACCG-1-s1d1</td>\n",
       "      <td>1831</td>\n",
       "      <td>5.403879</td>\n",
       "      <td>0.867009</td>\n",
       "      <td>G2M</td>\n",
       "      <td>127</td>\n",
       "      <td>5777.0</td>\n",
       "      <td>8.0</td>\n",
       "      <td>CD4+ T activated</td>\n",
       "      <td>s1d1</td>\n",
       "      <td>...</td>\n",
       "      <td>15078</td>\n",
       "      <td>34</td>\n",
       "      <td>24.8</td>\n",
       "      <td>B-</td>\n",
       "      <td>White</td>\n",
       "      <td>HISPANIC OR LATINO</td>\n",
       "      <td>Male</td>\n",
       "      <td>False</td>\n",
       "      <td>Nonsmoker</td>\n",
       "      <td>train</td>\n",
       "    </tr>\n",
       "    <tr>\n",
       "      <th>998</th>\n",
       "      <td>GGGAAGTAGTCATGCT-1-s1d1</td>\n",
       "      <td>1884</td>\n",
       "      <td>4.792519</td>\n",
       "      <td>0.977159</td>\n",
       "      <td>G1</td>\n",
       "      <td>117</td>\n",
       "      <td>4259.0</td>\n",
       "      <td>10.0</td>\n",
       "      <td>CD4+ T naive</td>\n",
       "      <td>s1d1</td>\n",
       "      <td>...</td>\n",
       "      <td>15078</td>\n",
       "      <td>34</td>\n",
       "      <td>24.8</td>\n",
       "      <td>B-</td>\n",
       "      <td>White</td>\n",
       "      <td>HISPANIC OR LATINO</td>\n",
       "      <td>Male</td>\n",
       "      <td>False</td>\n",
       "      <td>Nonsmoker</td>\n",
       "      <td>train</td>\n",
       "    </tr>\n",
       "    <tr>\n",
       "      <th>999</th>\n",
       "      <td>TGTTACTAGCCTCTGG-1-s1d1</td>\n",
       "      <td>1507</td>\n",
       "      <td>13.135680</td>\n",
       "      <td>0.679083</td>\n",
       "      <td>S</td>\n",
       "      <td>100</td>\n",
       "      <td>2075.0</td>\n",
       "      <td>2.0</td>\n",
       "      <td>CD8+ T naive</td>\n",
       "      <td>s1d1</td>\n",
       "      <td>...</td>\n",
       "      <td>15078</td>\n",
       "      <td>34</td>\n",
       "      <td>24.8</td>\n",
       "      <td>B-</td>\n",
       "      <td>White</td>\n",
       "      <td>HISPANIC OR LATINO</td>\n",
       "      <td>Male</td>\n",
       "      <td>False</td>\n",
       "      <td>Nonsmoker</td>\n",
       "      <td>iid_holdout</td>\n",
       "    </tr>\n",
       "  </tbody>\n",
       "</table>\n",
       "<p>1000 rows × 27 columns</p>\n",
       "</div>"
      ],
      "text/plain": [
       "                       index  GEX_n_genes_by_counts  GEX_pct_counts_mt  \\\n",
       "0    GCATTAGCATAAGCGG-1-s1d1                    893           6.723979   \n",
       "1    TACAGGTGTTAGAGTA-1-s1d1                   2606           8.008829   \n",
       "2    AGGATCTAGGTCTACT-1-s1d1                   1867           6.959707   \n",
       "3    GTAGAAAGTGACACAG-1-s1d1                   2360           6.109234   \n",
       "4    TCCGAAAAGGATCATA-1-s1d1                    455           0.294394   \n",
       "..                       ...                    ...                ...   \n",
       "995  GTGAGCCAGCTGGTGA-1-s1d1                   2210           4.479669   \n",
       "996  GGAATCTTCTATGCCC-1-s1d1                   2061          12.652705   \n",
       "997  AGTCACAAGGATACCG-1-s1d1                   1831           5.403879   \n",
       "998  GGGAAGTAGTCATGCT-1-s1d1                   1884           4.792519   \n",
       "999  TGTTACTAGCCTCTGG-1-s1d1                   1507          13.135680   \n",
       "\n",
       "     GEX_size_factors GEX_phase  ADT_n_antibodies_by_counts  ADT_total_counts  \\\n",
       "0            0.356535        G1                         115            2828.0   \n",
       "1            1.292643         S                         137            8819.0   \n",
       "2            0.970558       G2M                         116            4088.0   \n",
       "3            1.232604       G2M                         124            4447.0   \n",
       "4            0.044585         S                         132           12875.0   \n",
       "..                ...       ...                         ...               ...   \n",
       "995          1.167016       G2M                         117            3423.0   \n",
       "996          1.059667       G2M                         115            4047.0   \n",
       "997          0.867009       G2M                         127            5777.0   \n",
       "998          0.977159        G1                         117            4259.0   \n",
       "999          0.679083         S                         100            2075.0   \n",
       "\n",
       "     ADT_iso_count            cell_type batch  ...  DonorID  DonorAge  \\\n",
       "0              5.0  Naive CD20+ B IGKC+  s1d1  ...    15078        34   \n",
       "1             21.0           CD14+ Mono  s1d1  ...    15078        34   \n",
       "2             12.0  Naive CD20+ B IGKC+  s1d1  ...    15078        34   \n",
       "3              9.0                  HSC  s1d1  ...    15078        34   \n",
       "4             24.0         Reticulocyte  s1d1  ...    15078        34   \n",
       "..             ...                  ...   ...  ...      ...       ...   \n",
       "995            8.0         CD4+ T naive  s1d1  ...    15078        34   \n",
       "996            4.0         CD8+ T naive  s1d1  ...    15078        34   \n",
       "997            8.0     CD4+ T activated  s1d1  ...    15078        34   \n",
       "998           10.0         CD4+ T naive  s1d1  ...    15078        34   \n",
       "999            2.0         CD8+ T naive  s1d1  ...    15078        34   \n",
       "\n",
       "    DonorBMI DonorBloodType DonorRace           Ethnicity  DonorGender  \\\n",
       "0       24.8             B-     White  HISPANIC OR LATINO         Male   \n",
       "1       24.8             B-     White  HISPANIC OR LATINO         Male   \n",
       "2       24.8             B-     White  HISPANIC OR LATINO         Male   \n",
       "3       24.8             B-     White  HISPANIC OR LATINO         Male   \n",
       "4       24.8             B-     White  HISPANIC OR LATINO         Male   \n",
       "..       ...            ...       ...                 ...          ...   \n",
       "995     24.8             B-     White  HISPANIC OR LATINO         Male   \n",
       "996     24.8             B-     White  HISPANIC OR LATINO         Male   \n",
       "997     24.8             B-     White  HISPANIC OR LATINO         Male   \n",
       "998     24.8             B-     White  HISPANIC OR LATINO         Male   \n",
       "999     24.8             B-     White  HISPANIC OR LATINO         Male   \n",
       "\n",
       "     QCMeds  DonorSmoker     is_train  \n",
       "0     False    Nonsmoker        train  \n",
       "1     False    Nonsmoker        train  \n",
       "2     False    Nonsmoker        train  \n",
       "3     False    Nonsmoker        train  \n",
       "4     False    Nonsmoker        train  \n",
       "..      ...          ...          ...  \n",
       "995   False    Nonsmoker        train  \n",
       "996   False    Nonsmoker        train  \n",
       "997   False    Nonsmoker        train  \n",
       "998   False    Nonsmoker        train  \n",
       "999   False    Nonsmoker  iid_holdout  \n",
       "\n",
       "[1000 rows x 27 columns]"
      ]
     },
     "execution_count": 83,
     "metadata": {},
     "output_type": "execute_result"
    }
   ],
   "source": [
    "d[:1000]"
   ]
  },
  {
   "cell_type": "code",
   "execution_count": 6,
   "metadata": {},
   "outputs": [],
   "source": [
    "adt_ad = cite[:,cite.var.feature_types == \"ADT\"]"
   ]
  },
  {
   "cell_type": "code",
   "execution_count": 7,
   "metadata": {},
   "outputs": [],
   "source": [
    "gex_ad = cite[:,cite.var.feature_types == \"GEX\"]"
   ]
  },
  {
   "cell_type": "code",
   "execution_count": 8,
   "metadata": {},
   "outputs": [
    {
     "name": "stderr",
     "output_type": "stream",
     "text": [
      "/mnt/ps/home/CORP/johnny.xi/.pyenv/versions/3.10.12/envs/multiomics/lib/python3.10/site-packages/scanpy/preprocessing/_normalization.py:169: UserWarning: Received a view of an AnnData. Making a copy.\n",
      "  view_to_actual(adata)\n"
     ]
    }
   ],
   "source": [
    "gex_ad.X = gex_ad.layers[\"counts\"].copy()\n",
    "sc.pp.normalize_total(gex_ad)\n",
    "sc.pp.log1p(gex_ad)\n",
    "sc.pp.scale(gex_ad)\n",
    "sc.tl.pca(gex_ad, n_comps=100, svd_solver=\"auto\")"
   ]
  },
  {
   "cell_type": "code",
   "execution_count": 9,
   "metadata": {},
   "outputs": [
    {
     "name": "stderr",
     "output_type": "stream",
     "text": [
      "/mnt/ps/home/CORP/johnny.xi/.pyenv/versions/3.10.12/envs/multiomics/lib/python3.10/site-packages/scanpy/preprocessing/_normalization.py:169: UserWarning: Received a view of an AnnData. Making a copy.\n",
      "  view_to_actual(adata)\n"
     ]
    }
   ],
   "source": [
    "adt_ad.X = adt_ad.layers[\"counts\"].copy()\n",
    "sc.pp.normalize_total(adt_ad)\n",
    "sc.pp.log1p(adt_ad)\n",
    "sc.pp.scale(adt_ad)\n",
    "sc.tl.pca(adt_ad, n_comps=100, svd_solver=\"auto\")"
   ]
  },
  {
   "cell_type": "code",
   "execution_count": 10,
   "metadata": {},
   "outputs": [],
   "source": [
    "p = np.array(adt_ad.var_names)\n",
    "r = np.array(gex_ad.var_names)\n",
    "# mask entries are set to 1 where protein name is the same as gene name\n",
    "mask = np.repeat(p.reshape(-1, 1), r.shape[0], axis=1) == r\n",
    "mask = np.array(mask)"
   ]
  },
  {
   "cell_type": "code",
   "execution_count": 11,
   "metadata": {},
   "outputs": [],
   "source": [
    "rna_vars = [v + \"_rna\" for v in gex_ad.var_names]\n",
    "prot_vars = [v + \"_prot\" for v in adt_ad.var_names]\n",
    "gex_ad.var_names = rna_vars\n",
    "adt_ad.var_names = prot_vars"
   ]
  },
  {
   "cell_type": "code",
   "execution_count": 12,
   "metadata": {},
   "outputs": [],
   "source": [
    "adj = pd.DataFrame(mask, index=prot_vars, columns=rna_vars)\n",
    "diag_edges = adj[adj > 0].stack().index.tolist()\n",
    "diag_edges = [(n1, n2, {\"weight\": 1.0, \"sign\": 1}) for n1, n2 in diag_edges]\n",
    "self_loop_rna = [(g, g, {\"weight\": 1.0, \"sign\": 1}) for g in rna_vars]\n",
    "self_loop_prot = [(g, g, {\"weight\": 1.0, \"sign\": 1}) for g in prot_vars]"
   ]
  },
  {
   "cell_type": "code",
   "execution_count": 13,
   "metadata": {},
   "outputs": [],
   "source": [
    "graph = nx.Graph()\n",
    "graph.add_nodes_from(rna_vars)\n",
    "graph.add_nodes_from(prot_vars)\n",
    "graph.add_edges_from(diag_edges)\n",
    "graph.add_edges_from(self_loop_prot)\n",
    "graph.add_edges_from(self_loop_rna)"
   ]
  },
  {
   "cell_type": "code",
   "execution_count": 14,
   "metadata": {},
   "outputs": [
    {
     "data": {
      "text/plain": [
       "(14087, 14123)"
      ]
     },
     "execution_count": 14,
     "metadata": {},
     "output_type": "execute_result"
    }
   ],
   "source": [
    "graph.number_of_nodes(), graph.number_of_edges()"
   ]
  },
  {
   "cell_type": "code",
   "execution_count": 15,
   "metadata": {},
   "outputs": [],
   "source": [
    "scglue.models.configure_dataset(\n",
    "    gex_ad,\n",
    "    \"NB\",\n",
    "    use_highly_variable=False,\n",
    "    use_batch=\"Samplename\",\n",
    "    use_layer=\"counts\",\n",
    "    use_rep=\"X_pca\",\n",
    ")"
   ]
  },
  {
   "cell_type": "code",
   "execution_count": 16,
   "metadata": {},
   "outputs": [],
   "source": [
    "scglue.models.configure_dataset(\n",
    "    adt_ad,\n",
    "    \"Normal\",\n",
    "    use_highly_variable=False,\n",
    "    use_batch=\"Samplename\",\n",
    "    use_rep=\"X_pca\",\n",
    ")"
   ]
  },
  {
   "cell_type": "code",
   "execution_count": 17,
   "metadata": {},
   "outputs": [
    {
     "name": "stdout",
     "output_type": "stream",
     "text": [
      "[INFO] fit_SCGLUE: Pretraining SCGLUE model...\n",
      "[INFO] autodevice: Using GPU 0 as computation device.\n",
      "[INFO] check_graph: Checking variable coverage...\n",
      "[INFO] check_graph: Checking edge attributes...\n",
      "[INFO] check_graph: Checking self-loops...\n",
      "[INFO] check_graph: Checking graph symmetry...\n",
      "[INFO] check_graph: All checks passed!\n",
      "[INFO] SCGLUEModel: Setting `graph_batch_size` = 4868\n",
      "[INFO] SCGLUEModel: Setting `max_epochs` = 105\n",
      "[INFO] SCGLUEModel: Setting `patience` = 9\n",
      "[INFO] SCGLUEModel: Setting `reduce_lr_patience` = 5\n",
      "[INFO] SCGLUETrainer: Using training directory: \"/tmp/GLUETMPknvocgmm\"\n"
     ]
    },
    {
     "name": "stderr",
     "output_type": "stream",
     "text": [
      "/mnt/ps/home/CORP/johnny.xi/.pyenv/versions/3.10.12/lib/python3.10/abc.py:119: FutureWarning: SparseDataset is deprecated and will be removed in late 2024. It has been replaced by the public classes CSRDataset and CSCDataset.\n",
      "\n",
      "For instance checks, use `isinstance(X, (anndata.experimental.CSRDataset, anndata.experimental.CSCDataset))` instead.\n",
      "\n",
      "For creation, use `anndata.experimental.sparse_dataset(X)` instead.\n",
      "\n",
      "  return _abc_instancecheck(cls, instance)\n"
     ]
    },
    {
     "name": "stdout",
     "output_type": "stream",
     "text": [
      "[INFO] SCGLUETrainer: [Epoch 10] train={'g_nll': 0.142, 'g_kl': 0.015, 'g_elbo': 0.157, 'x_rna_nll': 0.38, 'x_rna_kl': 0.003, 'x_rna_elbo': 0.384, 'x_adt_nll': 0.915, 'x_adt_kl': 0.109, 'x_adt_elbo': 1.024, 'dsc_loss': 0.611, 'vae_loss': 1.414, 'gen_loss': 1.383}, val={'g_nll': 0.131, 'g_kl': 0.015, 'g_elbo': 0.146, 'x_rna_nll': 0.376, 'x_rna_kl': 0.003, 'x_rna_elbo': 0.379, 'x_adt_nll': 0.887, 'x_adt_kl': 0.11, 'x_adt_elbo': 0.997, 'dsc_loss': 0.603, 'vae_loss': 1.381, 'gen_loss': 1.351}, 5.7s elapsed\n",
      "[INFO] SCGLUETrainer: [Epoch 20] train={'g_nll': 0.054, 'g_kl': 0.016, 'g_elbo': 0.07, 'x_rna_nll': 0.376, 'x_rna_kl': 0.003, 'x_rna_elbo': 0.379, 'x_adt_nll': 0.879, 'x_adt_kl': 0.124, 'x_adt_elbo': 1.002, 'dsc_loss': 0.641, 'vae_loss': 1.384, 'gen_loss': 1.352}, val={'g_nll': 0.051, 'g_kl': 0.017, 'g_elbo': 0.067, 'x_rna_nll': 0.373, 'x_rna_kl': 0.003, 'x_rna_elbo': 0.376, 'x_adt_nll': 0.859, 'x_adt_kl': 0.123, 'x_adt_elbo': 0.982, 'dsc_loss': 0.62, 'vae_loss': 1.36, 'gen_loss': 1.329}, 7.3s elapsed\n",
      "[INFO] SCGLUETrainer: [Epoch 30] train={'g_nll': 0.036, 'g_kl': 0.017, 'g_elbo': 0.053, 'x_rna_nll': 0.374, 'x_rna_kl': 0.003, 'x_rna_elbo': 0.377, 'x_adt_nll': 0.872, 'x_adt_kl': 0.126, 'x_adt_elbo': 0.998, 'dsc_loss': 0.649, 'vae_loss': 1.377, 'gen_loss': 1.345}, val={'g_nll': 0.037, 'g_kl': 0.017, 'g_elbo': 0.054, 'x_rna_nll': 0.37, 'x_rna_kl': 0.003, 'x_rna_elbo': 0.372, 'x_adt_nll': 0.851, 'x_adt_kl': 0.126, 'x_adt_elbo': 0.977, 'dsc_loss': 0.645, 'vae_loss': 1.351, 'gen_loss': 1.319}, 6.5s elapsed\n",
      "Epoch 00037: reducing learning rate of group 0 to 2.0000e-04.\n",
      "Epoch 00037: reducing learning rate of group 0 to 2.0000e-04.\n",
      "[INFO] LRScheduler: Learning rate reduction: step 1\n",
      "[INFO] SCGLUETrainer: [Epoch 40] train={'g_nll': 0.03, 'g_kl': 0.018, 'g_elbo': 0.048, 'x_rna_nll': 0.374, 'x_rna_kl': 0.003, 'x_rna_elbo': 0.376, 'x_adt_nll': 0.859, 'x_adt_kl': 0.127, 'x_adt_elbo': 0.986, 'dsc_loss': 0.648, 'vae_loss': 1.364, 'gen_loss': 1.332}, val={'g_nll': 0.032, 'g_kl': 0.018, 'g_elbo': 0.05, 'x_rna_nll': 0.367, 'x_rna_kl': 0.003, 'x_rna_elbo': 0.37, 'x_adt_nll': 0.842, 'x_adt_kl': 0.127, 'x_adt_elbo': 0.97, 'dsc_loss': 0.637, 'vae_loss': 1.342, 'gen_loss': 1.31}, 6.5s elapsed\n",
      "Epoch 00046: reducing learning rate of group 0 to 2.0000e-05.\n",
      "Epoch 00046: reducing learning rate of group 0 to 2.0000e-05.\n",
      "[INFO] LRScheduler: Learning rate reduction: step 2\n",
      "[INFO] SCGLUETrainer: [Epoch 50] train={'g_nll': 0.03, 'g_kl': 0.018, 'g_elbo': 0.048, 'x_rna_nll': 0.371, 'x_rna_kl': 0.003, 'x_rna_elbo': 0.374, 'x_adt_nll': 0.86, 'x_adt_kl': 0.128, 'x_adt_elbo': 0.987, 'dsc_loss': 0.648, 'vae_loss': 1.363, 'gen_loss': 1.331}, val={'g_nll': 0.028, 'g_kl': 0.018, 'g_elbo': 0.046, 'x_rna_nll': 0.368, 'x_rna_kl': 0.003, 'x_rna_elbo': 0.371, 'x_adt_nll': 0.845, 'x_adt_kl': 0.127, 'x_adt_elbo': 0.972, 'dsc_loss': 0.635, 'vae_loss': 1.345, 'gen_loss': 1.313}, 6.9s elapsed\n",
      "Epoch 00053: reducing learning rate of group 0 to 2.0000e-06.\n",
      "Epoch 00053: reducing learning rate of group 0 to 2.0000e-06.\n",
      "[INFO] LRScheduler: Learning rate reduction: step 3\n"
     ]
    },
    {
     "name": "stderr",
     "output_type": "stream",
     "text": [
      "2023-10-23 12:48:47,318 ignite.handlers.early_stopping.EarlyStopping INFO: EarlyStopping: Stop training\n"
     ]
    },
    {
     "name": "stdout",
     "output_type": "stream",
     "text": [
      "[INFO] EarlyStopping: Restoring checkpoint \"49\"...\n",
      "[INFO] EarlyStopping: Restoring checkpoint \"49\"...\n",
      "[INFO] fit_SCGLUE: Estimating balancing weight...\n",
      "[INFO] estimate_balancing_weight: Clustering cells...\n",
      "[INFO] estimate_balancing_weight: Matching clusters...\n",
      "[INFO] estimate_balancing_weight: Matching array shape = (25, 22)...\n",
      "[INFO] estimate_balancing_weight: Estimating balancing weight...\n"
     ]
    },
    {
     "name": "stderr",
     "output_type": "stream",
     "text": [
      "/mnt/ps/home/CORP/johnny.xi/.pyenv/versions/3.10.12/envs/multiomics/lib/python3.10/site-packages/scglue/data.py:180: FutureWarning: is_categorical_dtype is deprecated and will be removed in a future version. Use isinstance(dtype, CategoricalDtype) instead\n",
      "  if pd.api.types.is_categorical_dtype(by) \\\n",
      "/mnt/ps/home/CORP/johnny.xi/.pyenv/versions/3.10.12/envs/multiomics/lib/python3.10/site-packages/scglue/data.py:210: FutureWarning: is_categorical_dtype is deprecated and will be removed in a future version. Use isinstance(dtype, CategoricalDtype) instead\n",
      "  if pd.api.types.is_categorical_dtype(adata.obs[c]):\n",
      "/mnt/ps/home/CORP/johnny.xi/.pyenv/versions/3.10.12/envs/multiomics/lib/python3.10/site-packages/anndata/_core/anndata.py:183: ImplicitModificationWarning: Transforming to str index.\n",
      "  warnings.warn(\"Transforming to str index.\", ImplicitModificationWarning)\n",
      "/mnt/ps/home/CORP/johnny.xi/.pyenv/versions/3.10.12/envs/multiomics/lib/python3.10/site-packages/scglue/data.py:180: FutureWarning: is_categorical_dtype is deprecated and will be removed in a future version. Use isinstance(dtype, CategoricalDtype) instead\n",
      "  if pd.api.types.is_categorical_dtype(by) \\\n",
      "/mnt/ps/home/CORP/johnny.xi/.pyenv/versions/3.10.12/envs/multiomics/lib/python3.10/site-packages/scglue/data.py:210: FutureWarning: is_categorical_dtype is deprecated and will be removed in a future version. Use isinstance(dtype, CategoricalDtype) instead\n",
      "  if pd.api.types.is_categorical_dtype(adata.obs[c]):\n",
      "/mnt/ps/home/CORP/johnny.xi/.pyenv/versions/3.10.12/envs/multiomics/lib/python3.10/site-packages/anndata/_core/anndata.py:183: ImplicitModificationWarning: Transforming to str index.\n",
      "  warnings.warn(\"Transforming to str index.\", ImplicitModificationWarning)\n"
     ]
    },
    {
     "name": "stdout",
     "output_type": "stream",
     "text": [
      "[INFO] fit_SCGLUE: Fine-tuning SCGLUE model...\n",
      "[INFO] check_graph: Checking variable coverage...\n",
      "[INFO] check_graph: Checking edge attributes...\n",
      "[INFO] check_graph: Checking self-loops...\n",
      "[INFO] check_graph: Checking graph symmetry...\n",
      "[INFO] check_graph: All checks passed!\n",
      "[INFO] SCGLUEModel: Setting `graph_batch_size` = 4868\n",
      "[INFO] SCGLUEModel: Setting `align_burnin` = 18\n",
      "[INFO] SCGLUEModel: Setting `max_epochs` = 105\n",
      "[INFO] SCGLUEModel: Setting `patience` = 9\n",
      "[INFO] SCGLUEModel: Setting `reduce_lr_patience` = 5\n",
      "[INFO] SCGLUETrainer: Using training directory: \"/tmp/GLUETMP_bxmjqw9\"\n"
     ]
    },
    {
     "name": "stderr",
     "output_type": "stream",
     "text": [
      "/mnt/ps/home/CORP/johnny.xi/.pyenv/versions/3.10.12/lib/python3.10/abc.py:119: FutureWarning: SparseDataset is deprecated and will be removed in late 2024. It has been replaced by the public classes CSRDataset and CSCDataset.\n",
      "\n",
      "For instance checks, use `isinstance(X, (anndata.experimental.CSRDataset, anndata.experimental.CSCDataset))` instead.\n",
      "\n",
      "For creation, use `anndata.experimental.sparse_dataset(X)` instead.\n",
      "\n",
      "  return _abc_instancecheck(cls, instance)\n"
     ]
    },
    {
     "name": "stdout",
     "output_type": "stream",
     "text": [
      "[INFO] SCGLUETrainer: [Epoch 10] train={'g_nll': 0.026, 'g_kl': 0.018, 'g_elbo': 0.045, 'x_rna_nll': 0.374, 'x_rna_kl': 0.003, 'x_rna_elbo': 0.376, 'x_adt_nll': 0.87, 'x_adt_kl': 0.127, 'x_adt_elbo': 0.997, 'dsc_loss': 0.646, 'vae_loss': 1.375, 'gen_loss': 1.342}, val={'g_nll': 0.026, 'g_kl': 0.018, 'g_elbo': 0.045, 'x_rna_nll': 0.372, 'x_rna_kl': 0.003, 'x_rna_elbo': 0.375, 'x_adt_nll': 0.842, 'x_adt_kl': 0.126, 'x_adt_elbo': 0.968, 'dsc_loss': 0.676, 'vae_loss': 1.345, 'gen_loss': 1.311}, 9.0s elapsed\n",
      "[INFO] SCGLUETrainer: [Epoch 20] train={'g_nll': 0.028, 'g_kl': 0.018, 'g_elbo': 0.046, 'x_rna_nll': 0.377, 'x_rna_kl': 0.003, 'x_rna_elbo': 0.38, 'x_adt_nll': 0.87, 'x_adt_kl': 0.128, 'x_adt_elbo': 0.997, 'dsc_loss': 0.594, 'vae_loss': 1.379, 'gen_loss': 1.349}, val={'g_nll': 0.029, 'g_kl': 0.018, 'g_elbo': 0.046, 'x_rna_nll': 0.375, 'x_rna_kl': 0.003, 'x_rna_elbo': 0.378, 'x_adt_nll': 0.846, 'x_adt_kl': 0.127, 'x_adt_elbo': 0.972, 'dsc_loss': 0.639, 'vae_loss': 1.352, 'gen_loss': 1.32}, 7.1s elapsed\n",
      "Epoch 00028: reducing learning rate of group 0 to 2.0000e-04.\n",
      "Epoch 00028: reducing learning rate of group 0 to 2.0000e-04.\n",
      "[INFO] LRScheduler: Learning rate reduction: step 1\n",
      "[INFO] SCGLUETrainer: [Epoch 30] train={'g_nll': 0.029, 'g_kl': 0.017, 'g_elbo': 0.046, 'x_rna_nll': 0.376, 'x_rna_kl': 0.003, 'x_rna_elbo': 0.378, 'x_adt_nll': 0.861, 'x_adt_kl': 0.128, 'x_adt_elbo': 0.989, 'dsc_loss': 0.637, 'vae_loss': 1.369, 'gen_loss': 1.337}, val={'g_nll': 0.028, 'g_kl': 0.017, 'g_elbo': 0.045, 'x_rna_nll': 0.377, 'x_rna_kl': 0.003, 'x_rna_elbo': 0.38, 'x_adt_nll': 0.835, 'x_adt_kl': 0.127, 'x_adt_elbo': 0.962, 'dsc_loss': 0.617, 'vae_loss': 1.344, 'gen_loss': 1.313}, 6.5s elapsed\n",
      "[INFO] SCGLUETrainer: [Epoch 40] train={'g_nll': 0.029, 'g_kl': 0.017, 'g_elbo': 0.046, 'x_rna_nll': 0.376, 'x_rna_kl': 0.003, 'x_rna_elbo': 0.378, 'x_adt_nll': 0.858, 'x_adt_kl': 0.129, 'x_adt_elbo': 0.986, 'dsc_loss': 0.644, 'vae_loss': 1.366, 'gen_loss': 1.334}, val={'g_nll': 0.029, 'g_kl': 0.017, 'g_elbo': 0.046, 'x_rna_nll': 0.373, 'x_rna_kl': 0.003, 'x_rna_elbo': 0.375, 'x_adt_nll': 0.833, 'x_adt_kl': 0.127, 'x_adt_elbo': 0.96, 'dsc_loss': 0.618, 'vae_loss': 1.337, 'gen_loss': 1.306}, 6.7s elapsed\n",
      "Epoch 00046: reducing learning rate of group 0 to 2.0000e-05.\n",
      "Epoch 00046: reducing learning rate of group 0 to 2.0000e-05.\n",
      "[INFO] LRScheduler: Learning rate reduction: step 2\n"
     ]
    },
    {
     "name": "stderr",
     "output_type": "stream",
     "text": [
      "2023-10-23 12:55:44,068 ignite.handlers.early_stopping.EarlyStopping INFO: EarlyStopping: Stop training\n"
     ]
    },
    {
     "name": "stdout",
     "output_type": "stream",
     "text": [
      "[INFO] EarlyStopping: Restoring checkpoint \"47\"...\n",
      "[INFO] EarlyStopping: Restoring checkpoint \"47\"...\n"
     ]
    }
   ],
   "source": [
    "glue = scglue.models.fit_SCGLUE(\n",
    "    {\"rna\": gex_ad, \"adt\": adt_ad},\n",
    "    graph,\n",
    ")"
   ]
  },
  {
   "cell_type": "code",
   "execution_count": 18,
   "metadata": {},
   "outputs": [],
   "source": [
    "rna_encodings = glue.encode_data(\"rna\", gex_ad)\n",
    "adt_encodings = glue.encode_data(\"adt\", adt_ad)"
   ]
  },
  {
   "cell_type": "code",
   "execution_count": 24,
   "metadata": {},
   "outputs": [],
   "source": [
    "import os\n",
    "import sys"
   ]
  },
  {
   "cell_type": "code",
   "execution_count": 67,
   "metadata": {},
   "outputs": [],
   "source": [
    "sys.path.insert(0, os.path.abspath(\"..\"))\n",
    "from matching.utils import snn_matching, eot_matching, calc_domainAveraged_FOSCTTM"
   ]
  },
  {
   "cell_type": "code",
   "execution_count": 34,
   "metadata": {},
   "outputs": [
    {
     "data": {
      "text/plain": [
       "(16311, 50)"
      ]
     },
     "execution_count": 34,
     "metadata": {},
     "output_type": "execute_result"
    }
   ],
   "source": [
    "rna_encodings.shape"
   ]
  },
  {
   "cell_type": "code",
   "execution_count": 52,
   "metadata": {},
   "outputs": [],
   "source": [
    "cell_types = np.unique(gex_ad.obs.cell_type)"
   ]
  },
  {
   "cell_type": "code",
   "execution_count": 56,
   "metadata": {},
   "outputs": [],
   "source": [
    "import warnings\n",
    "warnings.filterwarnings('ignore')"
   ]
  },
  {
   "cell_type": "code",
   "execution_count": 66,
   "metadata": {},
   "outputs": [
    {
     "data": {
      "text/plain": [
       "(16311, 100)"
      ]
     },
     "execution_count": 66,
     "metadata": {},
     "output_type": "execute_result"
    }
   ],
   "source": [
    "gex_ad.obsm[\"X_pca\"].shape"
   ]
  },
  {
   "cell_type": "code",
   "execution_count": 84,
   "metadata": {},
   "outputs": [
    {
     "name": "stdout",
     "output_type": "stream",
     "text": [
      "Cell type: B1 B IGKC+, Number of samples: 140\n",
      "Cell type: B1 B IGKC+, kNN trace: 1.0227272727272727\n",
      "Cell type: B1 B IGKC+, EOT trace: 1.8762991316152493\n",
      "Cell type: B1 B IGKC+, kNN FOSCTTM: 0.4436793422404933\n",
      "Cell type: B1 B IGKC+, EOT FOSCTTM: 0.47931654676258995\n",
      "Cell type: B1 B IGKC-, Number of samples: 142\n",
      "Cell type: B1 B IGKC-, kNN trace: 2.715909090909091\n",
      "Cell type: B1 B IGKC-, EOT trace: 1.664947575325087\n",
      "Cell type: B1 B IGKC-, kNN FOSCTTM: 0.43399760263709913\n",
      "Cell type: B1 B IGKC-, EOT FOSCTTM: 0.4507042253521127\n",
      "Cell type: CD14+ Mono, Number of samples: 1769\n",
      "Cell type: CD14+ Mono, kNN trace: 1.0794285714285714\n",
      "Cell type: CD14+ Mono, EOT trace: 2.037638130230977\n",
      "Cell type: CD14+ Mono, kNN FOSCTTM: 0.4258766808458392\n",
      "Cell type: CD14+ Mono, EOT FOSCTTM: 0.4745625388477781\n",
      "Cell type: CD16+ Mono, Number of samples: 215\n",
      "Cell type: CD16+ Mono, kNN trace: 0.02641569123695034\n",
      "Cell type: CD16+ Mono, EOT trace: 0.7820789631029544\n",
      "Cell type: CD16+ Mono, kNN FOSCTTM: 0.4317104977178874\n",
      "Cell type: CD16+ Mono, EOT FOSCTTM: 0.42993914366442076\n",
      "Cell type: CD4+ T CD314+ CD45RA+, Number of samples: 93\n",
      "Cell type: CD4+ T CD314+ CD45RA+, kNN trace: 1.25\n",
      "Cell type: CD4+ T CD314+ CD45RA+, EOT trace: 0.42894209962683905\n",
      "Cell type: CD4+ T CD314+ CD45RA+, kNN FOSCTTM: 0.40947872837774657\n",
      "Cell type: CD4+ T CD314+ CD45RA+, EOT FOSCTTM: 0.4744623655913979\n",
      "Cell type: CD4+ T activated, Number of samples: 1776\n",
      "Cell type: CD4+ T activated, kNN trace: 0.0\n",
      "Cell type: CD4+ T activated, EOT trace: 0.23363313576472633\n",
      "Cell type: CD4+ T activated, kNN FOSCTTM: 0.5181836061413526\n",
      "Cell type: CD4+ T activated, EOT FOSCTTM: 0.5890816520746098\n",
      "Cell type: CD4+ T activated integrinB7+, Number of samples: 388\n",
      "Cell type: CD4+ T activated integrinB7+, kNN trace: 0.0\n",
      "Cell type: CD4+ T activated integrinB7+, EOT trace: 0.0053011233808419895\n",
      "Cell type: CD4+ T activated integrinB7+, kNN FOSCTTM: 0.5028437092090892\n",
      "Cell type: CD4+ T activated integrinB7+, EOT FOSCTTM: 0.5827372865553159\n",
      "Cell type: CD4+ T naive, Number of samples: 1728\n",
      "Cell type: CD4+ T naive, kNN trace: 1.5114942528735633\n",
      "Cell type: CD4+ T naive, EOT trace: 1.0752562589694847\n",
      "Cell type: CD4+ T naive, kNN FOSCTTM: 0.3874794923759892\n",
      "Cell type: CD4+ T naive, EOT FOSCTTM: 0.49243245217568465\n",
      "Cell type: CD8+ T CD49f+, Number of samples: 155\n",
      "Cell type: CD8+ T CD49f+, kNN trace: 1.0\n",
      "Cell type: CD8+ T CD49f+, EOT trace: 0.29062171332655923\n",
      "Cell type: CD8+ T CD49f+, kNN FOSCTTM: 0.36726015919564303\n",
      "Cell type: CD8+ T CD49f+, EOT FOSCTTM: 0.5126728110599078\n",
      "Cell type: CD8+ T CD57+ CD45RA+, Number of samples: 420\n",
      "Cell type: CD8+ T CD57+ CD45RA+, kNN trace: 1.002433090024331\n",
      "Cell type: CD8+ T CD57+ CD45RA+, EOT trace: 0.6872351482616224\n",
      "Cell type: CD8+ T CD57+ CD45RA+, kNN FOSCTTM: 0.30898965791567223\n",
      "Cell type: CD8+ T CD57+ CD45RA+, EOT FOSCTTM: 0.4787873622002501\n",
      "Cell type: CD8+ T CD57+ CD45RO+, Number of samples: 119\n",
      "Cell type: CD8+ T CD57+ CD45RO+, kNN trace: 1.0085470085470085\n",
      "Cell type: CD8+ T CD57+ CD45RO+, EOT trace: 1.8945637451181094\n",
      "Cell type: CD8+ T CD57+ CD45RO+, kNN FOSCTTM: 0.4263993733086455\n",
      "Cell type: CD8+ T CD57+ CD45RO+, EOT FOSCTTM: 0.5209727958980201\n",
      "Cell type: CD8+ T CD69+ CD45RA+, Number of samples: 140\n",
      "Cell type: CD8+ T CD69+ CD45RA+, kNN trace: 0.0\n",
      "Cell type: CD8+ T CD69+ CD45RA+, EOT trace: 2.491508734813614\n",
      "Cell type: CD8+ T CD69+ CD45RA+, kNN FOSCTTM: 0.4817831449126412\n",
      "Cell type: CD8+ T CD69+ CD45RA+, EOT FOSCTTM: 0.4985097636176773\n",
      "Cell type: CD8+ T CD69+ CD45RO+, Number of samples: 95\n",
      "Cell type: CD8+ T CD69+ CD45RO+, kNN trace: 1.0128205128205128\n",
      "Cell type: CD8+ T CD69+ CD45RO+, EOT trace: 0.3366999379384741\n",
      "Cell type: CD8+ T CD69+ CD45RO+, kNN FOSCTTM: 0.45212765957446815\n",
      "Cell type: CD8+ T CD69+ CD45RO+, EOT FOSCTTM: 0.5123740201567748\n",
      "Cell type: CD8+ T TIGIT+ CD45RA+, Number of samples: 83\n",
      "Cell type: CD8+ T TIGIT+ CD45RA+, kNN trace: 0.017543859649122816\n",
      "Cell type: CD8+ T TIGIT+ CD45RA+, EOT trace: 0.10487344977933892\n",
      "Cell type: CD8+ T TIGIT+ CD45RA+, kNN FOSCTTM: 0.40456949750220395\n",
      "Cell type: CD8+ T TIGIT+ CD45RA+, EOT FOSCTTM: 0.5321040258595356\n",
      "Cell type: CD8+ T TIGIT+ CD45RO+, Number of samples: 124\n",
      "Cell type: CD8+ T TIGIT+ CD45RO+, kNN trace: 0.20535714285714285\n",
      "Cell type: CD8+ T TIGIT+ CD45RO+, EOT trace: 1.2024801905556521\n",
      "Cell type: CD8+ T TIGIT+ CD45RO+, kNN FOSCTTM: 0.44866247049567276\n",
      "Cell type: CD8+ T TIGIT+ CD45RO+, EOT FOSCTTM: 0.4629228953579858\n",
      "Cell type: CD8+ T naive, Number of samples: 1236\n",
      "Cell type: CD8+ T naive, kNN trace: 0.0\n",
      "Cell type: CD8+ T naive, EOT trace: 0.5373750410590411\n",
      "Cell type: CD8+ T naive, kNN FOSCTTM: 0.43562097925920107\n",
      "Cell type: CD8+ T naive, EOT FOSCTTM: 0.48671632404386617\n",
      "Cell type: CD8+ T naive CD127+ CD26- CD101-, Number of samples: 42\n",
      "Cell type: CD8+ T naive CD127+ CD26- CD101-, kNN trace: 0.3333333333333333\n",
      "Cell type: CD8+ T naive CD127+ CD26- CD101-, EOT trace: 0.001272871909164015\n",
      "Cell type: CD8+ T naive CD127+ CD26- CD101-, kNN FOSCTTM: 0.5345528455284553\n",
      "Cell type: CD8+ T naive CD127+ CD26- CD101-, EOT FOSCTTM: 0.5685249709639955\n",
      "Cell type: Erythroblast, Number of samples: 513\n",
      "Cell type: Erythroblast, kNN trace: 1.5982587064676617\n",
      "Cell type: Erythroblast, EOT trace: 0.7172049615618847\n",
      "Cell type: Erythroblast, kNN FOSCTTM: 0.4262266995614035\n",
      "Cell type: Erythroblast, EOT FOSCTTM: 0.4462547971491228\n",
      "Cell type: G/M prog, Number of samples: 141\n",
      "Cell type: G/M prog, kNN trace: 3.017543859649123\n",
      "Cell type: G/M prog, EOT trace: 2.066631753718822\n",
      "Cell type: G/M prog, kNN FOSCTTM: 0.4678824721377913\n",
      "Cell type: G/M prog, EOT FOSCTTM: 0.48011651469098277\n",
      "Cell type: HSC, Number of samples: 201\n",
      "Cell type: HSC, kNN trace: 1.0\n",
      "Cell type: HSC, EOT trace: 0.899602373267699\n",
      "Cell type: HSC, kNN FOSCTTM: 0.38718905472636816\n",
      "Cell type: HSC, EOT FOSCTTM: 0.4349253731343284\n",
      "Cell type: ILC, Number of samples: 86\n",
      "Cell type: ILC, kNN trace: 0.0\n",
      "Cell type: ILC, EOT trace: 1.3193659014224017\n",
      "Cell type: ILC, kNN FOSCTTM: 0.42086183310533515\n",
      "Cell type: ILC, EOT FOSCTTM: 0.4996580027359781\n",
      "Cell type: ILC1, Number of samples: 124\n",
      "Cell type: ILC1, kNN trace: 1.9642857142857144\n",
      "Cell type: ILC1, EOT trace: 1.0388174283772569\n",
      "Cell type: ILC1, kNN FOSCTTM: 0.4523669027012851\n",
      "Cell type: ILC1, EOT FOSCTTM: 0.519407290847102\n",
      "Cell type: Lymph prog, Number of samples: 181\n",
      "Cell type: Lymph prog, kNN trace: 0.0\n",
      "Cell type: Lymph prog, EOT trace: 1.5878497745264066\n",
      "Cell type: Lymph prog, kNN FOSCTTM: 0.4379680785758133\n",
      "Cell type: Lymph prog, EOT FOSCTTM: 0.4701197053406998\n",
      "Cell type: MAIT, Number of samples: 244\n",
      "Cell type: MAIT, kNN trace: 1.0333333333333332\n",
      "Cell type: MAIT, EOT trace: 0.5478930768990538\n",
      "Cell type: MAIT, kNN FOSCTTM: 0.428059434662349\n",
      "Cell type: MAIT, EOT FOSCTTM: 0.5054560480334614\n",
      "Cell type: MK/E prog, Number of samples: 31\n",
      "Cell type: MK/E prog, kNN trace: 0.0\n",
      "Cell type: MK/E prog, EOT trace: 1.2087901258905134\n",
      "Cell type: MK/E prog, kNN FOSCTTM: 0.3983870967741934\n",
      "Cell type: MK/E prog, EOT FOSCTTM: 0.4940860215053764\n",
      "Cell type: NK, Number of samples: 823\n",
      "Cell type: NK, kNN trace: 0.0\n",
      "Cell type: NK, EOT trace: 0.47976488044380566\n",
      "Cell type: NK, kNN FOSCTTM: 0.3758052404561083\n",
      "Cell type: NK, EOT FOSCTTM: 0.4865167492971237\n",
      "Cell type: NK CD158e1+, Number of samples: 195\n",
      "Cell type: NK CD158e1+, kNN trace: 0.1491862567811935\n",
      "Cell type: NK CD158e1+, EOT trace: 1.5570618587656944\n",
      "Cell type: NK CD158e1+, kNN FOSCTTM: 0.3544409199048374\n",
      "Cell type: NK CD158e1+, EOT FOSCTTM: 0.5238302934179223\n",
      "Cell type: Naive CD20+ B IGKC+, Number of samples: 869\n",
      "Cell type: Naive CD20+ B IGKC+, kNN trace: 1.0\n",
      "Cell type: Naive CD20+ B IGKC+, EOT trace: 2.050942608700757\n",
      "Cell type: Naive CD20+ B IGKC+, kNN FOSCTTM: 0.48571309254241063\n",
      "Cell type: Naive CD20+ B IGKC+, EOT FOSCTTM: 0.4844417016221834\n",
      "Cell type: Naive CD20+ B IGKC-, Number of samples: 599\n",
      "Cell type: Naive CD20+ B IGKC-, kNN trace: 1.5\n",
      "Cell type: Naive CD20+ B IGKC-, EOT trace: 2.2931985352421105\n",
      "Cell type: Naive CD20+ B IGKC-, kNN FOSCTTM: 0.4829188558411176\n",
      "Cell type: Naive CD20+ B IGKC-, EOT FOSCTTM: 0.47658723290210553\n",
      "Cell type: Normoblast, Number of samples: 451\n",
      "Cell type: Normoblast, kNN trace: 3.5434782608695654\n",
      "Cell type: Normoblast, EOT trace: 1.7349715675238144\n",
      "Cell type: Normoblast, kNN FOSCTTM: 0.4382951465878295\n",
      "Cell type: Normoblast, EOT FOSCTTM: 0.45632914510963285\n",
      "Cell type: Plasma cell IGKC+, Number of samples: 24\n",
      "Cell type: Plasma cell IGKC+, kNN trace: 1.7361111111111112\n",
      "Cell type: Plasma cell IGKC+, EOT trace: 3.8188855041757943\n",
      "Cell type: Plasma cell IGKC+, kNN FOSCTTM: 0.3867753623188406\n",
      "Cell type: Plasma cell IGKC+, EOT FOSCTTM: 0.28260869565217395\n",
      "Cell type: Plasma cell IGKC-, Number of samples: 5\n",
      "Cell type: Plasma cell IGKC-, kNN trace: 2.0\n",
      "Cell type: Plasma cell IGKC-, EOT trace: 1.9782091686424574\n",
      "Cell type: Plasma cell IGKC-, kNN FOSCTTM: 0.25\n",
      "Cell type: Plasma cell IGKC-, EOT FOSCTTM: 0.275\n",
      "Cell type: Plasmablast IGKC+, Number of samples: 20\n",
      "Cell type: Plasmablast IGKC+, kNN trace: 2.0476190476190474\n",
      "Cell type: Plasmablast IGKC+, EOT trace: 2.7296215321805906\n",
      "Cell type: Plasmablast IGKC+, kNN FOSCTTM: 0.3368421052631579\n",
      "Cell type: Plasmablast IGKC+, EOT FOSCTTM: 0.3368421052631579\n",
      "Cell type: Plasmablast IGKC-, Number of samples: 11\n",
      "Cell type: Plasmablast IGKC-, kNN trace: 0.08333333333333333\n",
      "Cell type: Plasmablast IGKC-, EOT trace: 0.4588421474847855\n",
      "Cell type: Plasmablast IGKC-, kNN FOSCTTM: 0.47272727272727266\n",
      "Cell type: Plasmablast IGKC-, EOT FOSCTTM: 0.4863636363636364\n",
      "Cell type: Proerythroblast, Number of samples: 136\n",
      "Cell type: Proerythroblast, kNN trace: 2.0357142857142856\n",
      "Cell type: Proerythroblast, EOT trace: 1.0672572136319889\n",
      "Cell type: Proerythroblast, kNN FOSCTTM: 0.4502450980392157\n",
      "Cell type: Proerythroblast, EOT FOSCTTM: 0.46900871459694987\n",
      "Cell type: Reticulocyte, Number of samples: 1813\n",
      "Cell type: Reticulocyte, kNN trace: 1.502262443438914\n",
      "Cell type: Reticulocyte, EOT trace: 1.8387142817338957\n",
      "Cell type: Reticulocyte, kNN FOSCTTM: 0.44873957279349896\n",
      "Cell type: Reticulocyte, EOT FOSCTTM: 0.49897813071890657\n",
      "Cell type: T reg, Number of samples: 145\n",
      "Cell type: T reg, kNN trace: 2.0\n",
      "Cell type: T reg, EOT trace: 0.5107694212528199\n",
      "Cell type: T reg, kNN FOSCTTM: 0.38402777777777786\n",
      "Cell type: T reg, EOT FOSCTTM: 0.5505986590038313\n",
      "Cell type: Transitional B, Number of samples: 416\n",
      "Cell type: Transitional B, kNN trace: 1.696969696969697\n",
      "Cell type: Transitional B, EOT trace: 2.750172962439671\n",
      "Cell type: Transitional B, kNN FOSCTTM: 0.4118628359592215\n",
      "Cell type: Transitional B, EOT FOSCTTM: 0.44474629286376277\n",
      "Cell type: cDC2, Number of samples: 151\n",
      "Cell type: cDC2, kNN trace: 3.05\n",
      "Cell type: cDC2, EOT trace: 1.4490185411428353\n",
      "Cell type: cDC2, kNN FOSCTTM: 0.4139072847682119\n",
      "Cell type: cDC2, EOT FOSCTTM: 0.4303090507726269\n",
      "Cell type: dnT, Number of samples: 33\n",
      "Cell type: dnT, kNN trace: 1.0\n",
      "Cell type: dnT, EOT trace: 0.990586857247898\n",
      "Cell type: dnT, kNN FOSCTTM: 0.5378787878787878\n",
      "Cell type: dnT, EOT FOSCTTM: 0.59375\n",
      "Cell type: gdT CD158b+, Number of samples: 220\n",
      "Cell type: gdT CD158b+, kNN trace: 0.0\n",
      "Cell type: gdT CD158b+, EOT trace: 0.09695067534198895\n",
      "Cell type: gdT CD158b+, kNN FOSCTTM: 0.4520236612702366\n",
      "Cell type: gdT CD158b+, EOT FOSCTTM: 0.5236301369863013\n",
      "Cell type: gdT TCRVD2+, Number of samples: 70\n",
      "Cell type: gdT TCRVD2+, kNN trace: 0.25\n",
      "Cell type: gdT TCRVD2+, EOT trace: 0.5406523743247164\n",
      "Cell type: gdT TCRVD2+, kNN FOSCTTM: 0.5021739130434782\n",
      "Cell type: gdT TCRVD2+, EOT FOSCTTM: 0.5550724637681158\n",
      "Cell type: pDC, Number of samples: 144\n",
      "Cell type: pDC, kNN trace: 2.0\n",
      "Cell type: pDC, EOT trace: 1.17634807329976\n",
      "Cell type: pDC, kNN FOSCTTM: 0.38160450660450657\n",
      "Cell type: pDC, EOT FOSCTTM: 0.4024378399378399\n",
      "Average kNN Trace 1.0789326947902298\n",
      "Average EOT Trace 1.222298856977143\n",
      "Average kNN FOSCTTM 0.9086519589570786\n",
      "Average EOT FOSCTTM 0\n"
     ]
    }
   ],
   "source": [
    "knn_trace_avg, eot_trace_avg, knn_foscttm_avg, eot_foscttm_avg = 0, 0, 0, 0\n",
    "\n",
    "for ct in cell_types:\n",
    "    idx = np.where(gex_ad.obs.cell_type == ct)\n",
    "    rna_sub, adt_sub = gex_ad.obsm[\"X_pca\"][idx], adt_ad.obsm[\"X_pca\"][idx]\n",
    "    rna_match_sub, adt_match_sub = rna_encodings[idx], adt_encodings[idx]\n",
    "    print(f\"Cell type: {ct}, Number of samples: {rna_sub.shape[0]}\")\n",
    "    snn_sub = snn_matching(rna_match_sub, adt_match_sub)\n",
    "    print(f\"Cell type: {ct}, kNN trace: {np.trace(snn_sub)}\")\n",
    "    eot_sub = eot_matching(rna_match_sub, adt_match_sub, use_sinkhorn_log = True, verbose = False, max_iter = 200)\n",
    "    print(f\"Cell type: {ct}, EOT trace: {np.trace(eot_sub)}\")\n",
    "    snn_match = snn_sub @ adt_sub\n",
    "    eot_match = eot_sub @ adt_sub\n",
    "    knn_foscttm = np.array(calc_domainAveraged_FOSCTTM(adt_sub, snn_match)).mean()\n",
    "    eot_foscttm = np.array(calc_domainAveraged_FOSCTTM(adt_sub, eot_match)).mean()\n",
    "    print(f\"Cell type: {ct}, kNN FOSCTTM: {knn_foscttm}\") \n",
    "    print(f\"Cell type: {ct}, EOT FOSCTTM: {eot_foscttm}\") \n",
    "\n",
    "    knn_trace_avg += np.trace(snn_sub)/len(cell_types)\n",
    "    eot_trace_avg += np.trace(eot_sub)/len(cell_types)\n",
    "    knn_foscttm_avg += knn_foscttm/len(cell_types)\n",
    "    eot_foscttm_avg += eot_foscttm/len(cell_types)\n",
    "\n",
    "print(f\"Average kNN Trace {knn_trace_avg}\")\n",
    "print(f\"Average EOT Trace {eot_trace_avg}\")\n",
    "print(f\"Average kNN FOSCTTM {knn_foscttm_avg}\")\n",
    "print(f\"Average EOT FOSCTTM {eot_foscttm_avg}\")\n"
   ]
  },
  {
   "cell_type": "code",
   "execution_count": 27,
   "metadata": {},
   "outputs": [],
   "source": [
    "snn_coupling = snn_matching(rna_encodings, adt_encodings)\n"
   ]
  },
  {
   "cell_type": "code",
   "execution_count": 29,
   "metadata": {},
   "outputs": [
    {
     "data": {
      "text/plain": [
       "2.0"
      ]
     },
     "execution_count": 29,
     "metadata": {},
     "output_type": "execute_result"
    }
   ],
   "source": [
    "np.trace(snn_coupling)"
   ]
  }
 ],
 "metadata": {
  "kernelspec": {
   "display_name": "matching",
   "language": "python",
   "name": "python3"
  },
  "language_info": {
   "codemirror_mode": {
    "name": "ipython",
    "version": 3
   },
   "file_extension": ".py",
   "mimetype": "text/x-python",
   "name": "python",
   "nbconvert_exporter": "python",
   "pygments_lexer": "ipython3",
   "version": "3.10.12"
  }
 },
 "nbformat": 4,
 "nbformat_minor": 2
}
